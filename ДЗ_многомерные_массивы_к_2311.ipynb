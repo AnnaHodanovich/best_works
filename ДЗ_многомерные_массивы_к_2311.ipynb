{
 "cells": [
  {
   "cell_type": "code",
   "execution_count": 3,
   "id": "8254168c",
   "metadata": {},
   "outputs": [],
   "source": [
    "import numpy as np\n",
    "import pandas as pd"
   ]
  },
  {
   "cell_type": "markdown",
   "id": "9502e971",
   "metadata": {},
   "source": [
    "С помощью библиотеки numpy\n",
    "1.\tЗагрузите файл показания счетчиков power.csv"
   ]
  },
  {
   "cell_type": "code",
   "execution_count": 4,
   "id": "c8386e7b",
   "metadata": {
    "scrolled": true
   },
   "outputs": [
    {
     "data": {
      "text/plain": [
       "building       int64\n",
       "porch          int64\n",
       "floor          int64\n",
       "apartment      int64\n",
       "kwth         float64\n",
       "dtype: object"
      ]
     },
     "execution_count": 4,
     "metadata": {},
     "output_type": "execute_result"
    }
   ],
   "source": [
    "df=pd.read_csv('power.csv', sep=',', encoding='UTF-8')\n",
    "df.dtypes"
   ]
  },
  {
   "cell_type": "code",
   "execution_count": 5,
   "id": "3b5580f8",
   "metadata": {},
   "outputs": [
    {
     "data": {
      "text/html": [
       "<div>\n",
       "<style scoped>\n",
       "    .dataframe tbody tr th:only-of-type {\n",
       "        vertical-align: middle;\n",
       "    }\n",
       "\n",
       "    .dataframe tbody tr th {\n",
       "        vertical-align: top;\n",
       "    }\n",
       "\n",
       "    .dataframe thead th {\n",
       "        text-align: right;\n",
       "    }\n",
       "</style>\n",
       "<table border=\"1\" class=\"dataframe\">\n",
       "  <thead>\n",
       "    <tr style=\"text-align: right;\">\n",
       "      <th></th>\n",
       "      <th>building</th>\n",
       "      <th>porch</th>\n",
       "      <th>floor</th>\n",
       "      <th>apartment</th>\n",
       "      <th>kwth</th>\n",
       "    </tr>\n",
       "  </thead>\n",
       "  <tbody>\n",
       "    <tr>\n",
       "      <th>0</th>\n",
       "      <td>0</td>\n",
       "      <td>0</td>\n",
       "      <td>0</td>\n",
       "      <td>0</td>\n",
       "      <td>393.145226</td>\n",
       "    </tr>\n",
       "    <tr>\n",
       "      <th>1</th>\n",
       "      <td>0</td>\n",
       "      <td>0</td>\n",
       "      <td>0</td>\n",
       "      <td>1</td>\n",
       "      <td>531.038447</td>\n",
       "    </tr>\n",
       "    <tr>\n",
       "      <th>2</th>\n",
       "      <td>0</td>\n",
       "      <td>0</td>\n",
       "      <td>0</td>\n",
       "      <td>2</td>\n",
       "      <td>559.235808</td>\n",
       "    </tr>\n",
       "    <tr>\n",
       "      <th>3</th>\n",
       "      <td>0</td>\n",
       "      <td>0</td>\n",
       "      <td>0</td>\n",
       "      <td>3</td>\n",
       "      <td>453.154977</td>\n",
       "    </tr>\n",
       "    <tr>\n",
       "      <th>4</th>\n",
       "      <td>0</td>\n",
       "      <td>0</td>\n",
       "      <td>0</td>\n",
       "      <td>4</td>\n",
       "      <td>324.074795</td>\n",
       "    </tr>\n",
       "    <tr>\n",
       "      <th>...</th>\n",
       "      <td>...</td>\n",
       "      <td>...</td>\n",
       "      <td>...</td>\n",
       "      <td>...</td>\n",
       "      <td>...</td>\n",
       "    </tr>\n",
       "    <tr>\n",
       "      <th>115</th>\n",
       "      <td>1</td>\n",
       "      <td>2</td>\n",
       "      <td>3</td>\n",
       "      <td>0</td>\n",
       "      <td>181.203960</td>\n",
       "    </tr>\n",
       "    <tr>\n",
       "      <th>116</th>\n",
       "      <td>1</td>\n",
       "      <td>2</td>\n",
       "      <td>3</td>\n",
       "      <td>1</td>\n",
       "      <td>439.392880</td>\n",
       "    </tr>\n",
       "    <tr>\n",
       "      <th>117</th>\n",
       "      <td>1</td>\n",
       "      <td>2</td>\n",
       "      <td>3</td>\n",
       "      <td>2</td>\n",
       "      <td>314.881530</td>\n",
       "    </tr>\n",
       "    <tr>\n",
       "      <th>118</th>\n",
       "      <td>1</td>\n",
       "      <td>2</td>\n",
       "      <td>3</td>\n",
       "      <td>3</td>\n",
       "      <td>260.142618</td>\n",
       "    </tr>\n",
       "    <tr>\n",
       "      <th>119</th>\n",
       "      <td>1</td>\n",
       "      <td>2</td>\n",
       "      <td>3</td>\n",
       "      <td>4</td>\n",
       "      <td>447.594927</td>\n",
       "    </tr>\n",
       "  </tbody>\n",
       "</table>\n",
       "<p>120 rows × 5 columns</p>\n",
       "</div>"
      ],
      "text/plain": [
       "     building  porch  floor  apartment        kwth\n",
       "0           0      0      0          0  393.145226\n",
       "1           0      0      0          1  531.038447\n",
       "2           0      0      0          2  559.235808\n",
       "3           0      0      0          3  453.154977\n",
       "4           0      0      0          4  324.074795\n",
       "..        ...    ...    ...        ...         ...\n",
       "115         1      2      3          0  181.203960\n",
       "116         1      2      3          1  439.392880\n",
       "117         1      2      3          2  314.881530\n",
       "118         1      2      3          3  260.142618\n",
       "119         1      2      3          4  447.594927\n",
       "\n",
       "[120 rows x 5 columns]"
      ]
     },
     "execution_count": 5,
     "metadata": {},
     "output_type": "execute_result"
    }
   ],
   "source": [
    "df"
   ]
  },
  {
   "cell_type": "code",
   "execution_count": 48,
   "id": "54d0d54c",
   "metadata": {},
   "outputs": [
    {
     "data": {
      "text/html": [
       "<div>\n",
       "<style scoped>\n",
       "    .dataframe tbody tr th:only-of-type {\n",
       "        vertical-align: middle;\n",
       "    }\n",
       "\n",
       "    .dataframe tbody tr th {\n",
       "        vertical-align: top;\n",
       "    }\n",
       "\n",
       "    .dataframe thead tr th {\n",
       "        text-align: left;\n",
       "    }\n",
       "\n",
       "    .dataframe thead tr:last-of-type th {\n",
       "        text-align: right;\n",
       "    }\n",
       "</style>\n",
       "<table border=\"1\" class=\"dataframe\">\n",
       "  <thead>\n",
       "    <tr>\n",
       "      <th></th>\n",
       "      <th colspan=\"3\" halign=\"left\">kwth</th>\n",
       "    </tr>\n",
       "    <tr>\n",
       "      <th></th>\n",
       "      <th>mean</th>\n",
       "      <th>max</th>\n",
       "      <th>min</th>\n",
       "    </tr>\n",
       "    <tr>\n",
       "      <th>building</th>\n",
       "      <th></th>\n",
       "      <th></th>\n",
       "      <th></th>\n",
       "    </tr>\n",
       "  </thead>\n",
       "  <tbody>\n",
       "    <tr>\n",
       "      <th>0</th>\n",
       "      <td>419.608842</td>\n",
       "      <td>646.081019</td>\n",
       "      <td>173.473847</td>\n",
       "    </tr>\n",
       "    <tr>\n",
       "      <th>1</th>\n",
       "      <td>391.605713</td>\n",
       "      <td>622.594543</td>\n",
       "      <td>157.395722</td>\n",
       "    </tr>\n",
       "  </tbody>\n",
       "</table>\n",
       "</div>"
      ],
      "text/plain": [
       "                kwth                        \n",
       "                mean         max         min\n",
       "building                                    \n",
       "0         419.608842  646.081019  173.473847\n",
       "1         391.605713  622.594543  157.395722"
      ]
     },
     "execution_count": 48,
     "metadata": {},
     "output_type": "execute_result"
    }
   ],
   "source": [
    "df.groupby('building').agg({'kwth': ['mean', 'max', 'min', 'std']})"
   ]
  },
  {
   "cell_type": "code",
   "execution_count": 52,
   "id": "6961d385",
   "metadata": {},
   "outputs": [
    {
     "data": {
      "text/html": [
       "<div>\n",
       "<style scoped>\n",
       "    .dataframe tbody tr th:only-of-type {\n",
       "        vertical-align: middle;\n",
       "    }\n",
       "\n",
       "    .dataframe tbody tr th {\n",
       "        vertical-align: top;\n",
       "    }\n",
       "\n",
       "    .dataframe thead tr th {\n",
       "        text-align: left;\n",
       "    }\n",
       "\n",
       "    .dataframe thead tr:last-of-type th {\n",
       "        text-align: right;\n",
       "    }\n",
       "</style>\n",
       "<table border=\"1\" class=\"dataframe\">\n",
       "  <thead>\n",
       "    <tr>\n",
       "      <th></th>\n",
       "      <th colspan=\"5\" halign=\"left\">kwth</th>\n",
       "    </tr>\n",
       "    <tr>\n",
       "      <th></th>\n",
       "      <th>mean</th>\n",
       "      <th>max</th>\n",
       "      <th>min</th>\n",
       "      <th>sum</th>\n",
       "      <th>std</th>\n",
       "    </tr>\n",
       "    <tr>\n",
       "      <th>porch</th>\n",
       "      <th></th>\n",
       "      <th></th>\n",
       "      <th></th>\n",
       "      <th></th>\n",
       "      <th></th>\n",
       "    </tr>\n",
       "  </thead>\n",
       "  <tbody>\n",
       "    <tr>\n",
       "      <th>0</th>\n",
       "      <td>409.821232</td>\n",
       "      <td>587.148620</td>\n",
       "      <td>157.395722</td>\n",
       "      <td>16392.849275</td>\n",
       "      <td>105.383210</td>\n",
       "    </tr>\n",
       "    <tr>\n",
       "      <th>1</th>\n",
       "      <td>416.646594</td>\n",
       "      <td>622.594543</td>\n",
       "      <td>220.719115</td>\n",
       "      <td>16665.863745</td>\n",
       "      <td>96.880628</td>\n",
       "    </tr>\n",
       "    <tr>\n",
       "      <th>2</th>\n",
       "      <td>390.354008</td>\n",
       "      <td>646.081019</td>\n",
       "      <td>173.473847</td>\n",
       "      <td>15614.160319</td>\n",
       "      <td>107.835956</td>\n",
       "    </tr>\n",
       "  </tbody>\n",
       "</table>\n",
       "</div>"
      ],
      "text/plain": [
       "             kwth                                                  \n",
       "             mean         max         min           sum         std\n",
       "porch                                                              \n",
       "0      409.821232  587.148620  157.395722  16392.849275  105.383210\n",
       "1      416.646594  622.594543  220.719115  16665.863745   96.880628\n",
       "2      390.354008  646.081019  173.473847  15614.160319  107.835956"
      ]
     },
     "execution_count": 52,
     "metadata": {},
     "output_type": "execute_result"
    }
   ],
   "source": [
    "df.groupby('porch').agg({'kwth': ['mean', 'max', 'min', 'sum', 'std']})"
   ]
  },
  {
   "cell_type": "code",
   "execution_count": 53,
   "id": "cff322e1",
   "metadata": {},
   "outputs": [
    {
     "data": {
      "text/html": [
       "<div>\n",
       "<style scoped>\n",
       "    .dataframe tbody tr th:only-of-type {\n",
       "        vertical-align: middle;\n",
       "    }\n",
       "\n",
       "    .dataframe tbody tr th {\n",
       "        vertical-align: top;\n",
       "    }\n",
       "\n",
       "    .dataframe thead tr th {\n",
       "        text-align: left;\n",
       "    }\n",
       "\n",
       "    .dataframe thead tr:last-of-type th {\n",
       "        text-align: right;\n",
       "    }\n",
       "</style>\n",
       "<table border=\"1\" class=\"dataframe\">\n",
       "  <thead>\n",
       "    <tr>\n",
       "      <th></th>\n",
       "      <th colspan=\"4\" halign=\"left\">kwth</th>\n",
       "    </tr>\n",
       "    <tr>\n",
       "      <th></th>\n",
       "      <th>mean</th>\n",
       "      <th>max</th>\n",
       "      <th>min</th>\n",
       "      <th>std</th>\n",
       "    </tr>\n",
       "    <tr>\n",
       "      <th>floor</th>\n",
       "      <th></th>\n",
       "      <th></th>\n",
       "      <th></th>\n",
       "      <th></th>\n",
       "    </tr>\n",
       "  </thead>\n",
       "  <tbody>\n",
       "    <tr>\n",
       "      <th>0</th>\n",
       "      <td>420.666759</td>\n",
       "      <td>622.594543</td>\n",
       "      <td>271.066841</td>\n",
       "      <td>91.611996</td>\n",
       "    </tr>\n",
       "    <tr>\n",
       "      <th>1</th>\n",
       "      <td>406.916298</td>\n",
       "      <td>587.148620</td>\n",
       "      <td>220.719115</td>\n",
       "      <td>97.596076</td>\n",
       "    </tr>\n",
       "    <tr>\n",
       "      <th>2</th>\n",
       "      <td>409.066220</td>\n",
       "      <td>646.081019</td>\n",
       "      <td>157.395722</td>\n",
       "      <td>121.233821</td>\n",
       "    </tr>\n",
       "    <tr>\n",
       "      <th>3</th>\n",
       "      <td>385.779835</td>\n",
       "      <td>564.489255</td>\n",
       "      <td>174.938933</td>\n",
       "      <td>102.169577</td>\n",
       "    </tr>\n",
       "  </tbody>\n",
       "</table>\n",
       "</div>"
      ],
      "text/plain": [
       "             kwth                                    \n",
       "             mean         max         min         std\n",
       "floor                                                \n",
       "0      420.666759  622.594543  271.066841   91.611996\n",
       "1      406.916298  587.148620  220.719115   97.596076\n",
       "2      409.066220  646.081019  157.395722  121.233821\n",
       "3      385.779835  564.489255  174.938933  102.169577"
      ]
     },
     "execution_count": 53,
     "metadata": {},
     "output_type": "execute_result"
    }
   ],
   "source": [
    "df.groupby('floor').agg({'kwth': ['mean', 'max', 'min', 'std']})"
   ]
  },
  {
   "cell_type": "code",
   "execution_count": 54,
   "id": "1d570104",
   "metadata": {},
   "outputs": [
    {
     "data": {
      "text/html": [
       "<div>\n",
       "<style scoped>\n",
       "    .dataframe tbody tr th:only-of-type {\n",
       "        vertical-align: middle;\n",
       "    }\n",
       "\n",
       "    .dataframe tbody tr th {\n",
       "        vertical-align: top;\n",
       "    }\n",
       "\n",
       "    .dataframe thead tr th {\n",
       "        text-align: left;\n",
       "    }\n",
       "\n",
       "    .dataframe thead tr:last-of-type th {\n",
       "        text-align: right;\n",
       "    }\n",
       "</style>\n",
       "<table border=\"1\" class=\"dataframe\">\n",
       "  <thead>\n",
       "    <tr>\n",
       "      <th></th>\n",
       "      <th colspan=\"4\" halign=\"left\">kwth</th>\n",
       "    </tr>\n",
       "    <tr>\n",
       "      <th></th>\n",
       "      <th>mean</th>\n",
       "      <th>max</th>\n",
       "      <th>min</th>\n",
       "      <th>std</th>\n",
       "    </tr>\n",
       "    <tr>\n",
       "      <th>apartment</th>\n",
       "      <th></th>\n",
       "      <th></th>\n",
       "      <th></th>\n",
       "      <th></th>\n",
       "    </tr>\n",
       "  </thead>\n",
       "  <tbody>\n",
       "    <tr>\n",
       "      <th>0</th>\n",
       "      <td>430.940750</td>\n",
       "      <td>646.081019</td>\n",
       "      <td>181.203960</td>\n",
       "      <td>109.139232</td>\n",
       "    </tr>\n",
       "    <tr>\n",
       "      <th>1</th>\n",
       "      <td>436.463085</td>\n",
       "      <td>598.033284</td>\n",
       "      <td>292.132624</td>\n",
       "      <td>87.304170</td>\n",
       "    </tr>\n",
       "    <tr>\n",
       "      <th>2</th>\n",
       "      <td>403.706752</td>\n",
       "      <td>566.337095</td>\n",
       "      <td>157.395722</td>\n",
       "      <td>108.313750</td>\n",
       "    </tr>\n",
       "    <tr>\n",
       "      <th>3</th>\n",
       "      <td>358.668171</td>\n",
       "      <td>558.316137</td>\n",
       "      <td>173.473847</td>\n",
       "      <td>106.863786</td>\n",
       "    </tr>\n",
       "    <tr>\n",
       "      <th>4</th>\n",
       "      <td>398.257631</td>\n",
       "      <td>618.764868</td>\n",
       "      <td>262.074449</td>\n",
       "      <td>91.675627</td>\n",
       "    </tr>\n",
       "  </tbody>\n",
       "</table>\n",
       "</div>"
      ],
      "text/plain": [
       "                 kwth                                    \n",
       "                 mean         max         min         std\n",
       "apartment                                                \n",
       "0          430.940750  646.081019  181.203960  109.139232\n",
       "1          436.463085  598.033284  292.132624   87.304170\n",
       "2          403.706752  566.337095  157.395722  108.313750\n",
       "3          358.668171  558.316137  173.473847  106.863786\n",
       "4          398.257631  618.764868  262.074449   91.675627"
      ]
     },
     "execution_count": 54,
     "metadata": {},
     "output_type": "execute_result"
    }
   ],
   "source": [
    "df.groupby('apartment').agg({'kwth': ['mean', 'max', 'min', 'std']})"
   ]
  },
  {
   "cell_type": "code",
   "execution_count": 55,
   "id": "b9463614",
   "metadata": {},
   "outputs": [],
   "source": [
    "df_2=df"
   ]
  },
  {
   "cell_type": "code",
   "execution_count": null,
   "id": "51d76a84",
   "metadata": {},
   "outputs": [],
   "source": [
    "df_2[]"
   ]
  },
  {
   "cell_type": "code",
   "execution_count": 42,
   "id": "28dfb41c",
   "metadata": {},
   "outputs": [
    {
     "data": {
      "text/plain": [
       "Index(['building', 'porch', 'floor', 'apartment', 'kwth'], dtype='object')"
      ]
     },
     "execution_count": 42,
     "metadata": {},
     "output_type": "execute_result"
    }
   ],
   "source": [
    "df.columns"
   ]
  },
  {
   "cell_type": "code",
   "execution_count": 7,
   "id": "9c057486",
   "metadata": {},
   "outputs": [
    {
     "data": {
      "text/html": [
       "<div>\n",
       "<style scoped>\n",
       "    .dataframe tbody tr th:only-of-type {\n",
       "        vertical-align: middle;\n",
       "    }\n",
       "\n",
       "    .dataframe tbody tr th {\n",
       "        vertical-align: top;\n",
       "    }\n",
       "\n",
       "    .dataframe thead th {\n",
       "        text-align: right;\n",
       "    }\n",
       "</style>\n",
       "<table border=\"1\" class=\"dataframe\">\n",
       "  <thead>\n",
       "    <tr style=\"text-align: right;\">\n",
       "      <th></th>\n",
       "      <th>building</th>\n",
       "      <th>porch</th>\n",
       "      <th>floor</th>\n",
       "      <th>apartment</th>\n",
       "      <th>kwth</th>\n",
       "    </tr>\n",
       "  </thead>\n",
       "  <tbody>\n",
       "    <tr>\n",
       "      <th>0</th>\n",
       "      <td>0</td>\n",
       "      <td>0</td>\n",
       "      <td>0</td>\n",
       "      <td>0</td>\n",
       "      <td>393.145226</td>\n",
       "    </tr>\n",
       "    <tr>\n",
       "      <th>1</th>\n",
       "      <td>0</td>\n",
       "      <td>0</td>\n",
       "      <td>0</td>\n",
       "      <td>1</td>\n",
       "      <td>531.038447</td>\n",
       "    </tr>\n",
       "    <tr>\n",
       "      <th>2</th>\n",
       "      <td>0</td>\n",
       "      <td>0</td>\n",
       "      <td>0</td>\n",
       "      <td>2</td>\n",
       "      <td>559.235808</td>\n",
       "    </tr>\n",
       "    <tr>\n",
       "      <th>3</th>\n",
       "      <td>0</td>\n",
       "      <td>0</td>\n",
       "      <td>0</td>\n",
       "      <td>3</td>\n",
       "      <td>453.154977</td>\n",
       "    </tr>\n",
       "    <tr>\n",
       "      <th>4</th>\n",
       "      <td>0</td>\n",
       "      <td>0</td>\n",
       "      <td>0</td>\n",
       "      <td>4</td>\n",
       "      <td>324.074795</td>\n",
       "    </tr>\n",
       "    <tr>\n",
       "      <th>...</th>\n",
       "      <td>...</td>\n",
       "      <td>...</td>\n",
       "      <td>...</td>\n",
       "      <td>...</td>\n",
       "      <td>...</td>\n",
       "    </tr>\n",
       "    <tr>\n",
       "      <th>115</th>\n",
       "      <td>1</td>\n",
       "      <td>2</td>\n",
       "      <td>3</td>\n",
       "      <td>0</td>\n",
       "      <td>181.203960</td>\n",
       "    </tr>\n",
       "    <tr>\n",
       "      <th>116</th>\n",
       "      <td>1</td>\n",
       "      <td>2</td>\n",
       "      <td>3</td>\n",
       "      <td>1</td>\n",
       "      <td>439.392880</td>\n",
       "    </tr>\n",
       "    <tr>\n",
       "      <th>117</th>\n",
       "      <td>1</td>\n",
       "      <td>2</td>\n",
       "      <td>3</td>\n",
       "      <td>2</td>\n",
       "      <td>314.881530</td>\n",
       "    </tr>\n",
       "    <tr>\n",
       "      <th>118</th>\n",
       "      <td>1</td>\n",
       "      <td>2</td>\n",
       "      <td>3</td>\n",
       "      <td>3</td>\n",
       "      <td>260.142618</td>\n",
       "    </tr>\n",
       "    <tr>\n",
       "      <th>119</th>\n",
       "      <td>1</td>\n",
       "      <td>2</td>\n",
       "      <td>3</td>\n",
       "      <td>4</td>\n",
       "      <td>447.594927</td>\n",
       "    </tr>\n",
       "  </tbody>\n",
       "</table>\n",
       "<p>120 rows × 5 columns</p>\n",
       "</div>"
      ],
      "text/plain": [
       "     building  porch  floor  apartment        kwth\n",
       "0           0      0      0          0  393.145226\n",
       "1           0      0      0          1  531.038447\n",
       "2           0      0      0          2  559.235808\n",
       "3           0      0      0          3  453.154977\n",
       "4           0      0      0          4  324.074795\n",
       "..        ...    ...    ...        ...         ...\n",
       "115         1      2      3          0  181.203960\n",
       "116         1      2      3          1  439.392880\n",
       "117         1      2      3          2  314.881530\n",
       "118         1      2      3          3  260.142618\n",
       "119         1      2      3          4  447.594927\n",
       "\n",
       "[120 rows x 5 columns]"
      ]
     },
     "execution_count": 7,
     "metadata": {},
     "output_type": "execute_result"
    }
   ],
   "source": [
    "#df=df.rename(columns={'здание' : 'building', 'подъезд' : 'porch', 'этаж' : 'floor', 'квартира' : 'number', 'кВтч' : 'kwt_h'})\n",
    "df"
   ]
  },
  {
   "cell_type": "markdown",
   "id": "a7f4ace5",
   "metadata": {},
   "source": [
    "2.\tСоздайте отдельный одномерный массив numpy показаний счетчика"
   ]
  },
  {
   "cell_type": "code",
   "execution_count": 8,
   "id": "edc00a04",
   "metadata": {},
   "outputs": [],
   "source": [
    "kwt_array=np.array(df['kwth'])"
   ]
  },
  {
   "cell_type": "code",
   "execution_count": 9,
   "id": "822f24eb",
   "metadata": {
    "scrolled": true
   },
   "outputs": [
    {
     "data": {
      "text/plain": [
       "array([393.14522563, 531.03844742, 559.23580759, 453.15497731,\n",
       "       324.07479453, 373.66248979, 346.59126264, 479.88573109,\n",
       "       558.31613705, 262.07444862, 411.14114479, 520.02339012,\n",
       "       509.17405566, 272.47566539, 404.19534578, 447.86712869,\n",
       "       428.59679011, 334.75986465, 174.93893332, 564.4892545 ,\n",
       "       538.65992236, 506.74801857, 398.10121113, 349.33298001,\n",
       "       491.38181406, 486.48523252, 375.87933695, 566.33709458,\n",
       "       380.74186418, 387.16077567, 416.8442116 , 598.03328433,\n",
       "       474.02501576, 362.48034871, 416.92979189, 454.39464334,\n",
       "       497.41753364, 509.82674139, 272.20471493, 306.76627039,\n",
       "       303.29565313, 314.69132267, 374.88454329, 473.63796487,\n",
       "       411.96952507, 324.56709249, 296.69430248, 455.14188565,\n",
       "       264.27191911, 559.88513624, 646.08101884, 292.13262366,\n",
       "       548.27996241, 173.47384689, 618.76486794, 498.93328765,\n",
       "       386.12147617, 417.18395389, 247.63763986, 430.29081794,\n",
       "       428.84079815, 381.84230344, 333.48545198, 502.92561723,\n",
       "       436.40718161, 587.14862006, 496.11799706, 468.87431223,\n",
       "       397.59985028, 303.05424693, 452.52891666, 398.80791437,\n",
       "       157.39572235, 263.35086838, 271.45019672, 395.13503908,\n",
       "       538.03093525, 333.12458293, 487.17682654, 410.71099911,\n",
       "       622.59454348, 564.17544003, 271.06684119, 344.47439748,\n",
       "       405.18753755, 358.09581854, 443.91446342, 220.71911502,\n",
       "       508.27348657, 352.98170899, 273.5128585 , 464.78505164,\n",
       "       476.55907031, 406.85668499, 368.34421754, 467.68193023,\n",
       "       384.68910308, 284.96410461, 358.39311951, 298.84344634,\n",
       "       506.66201086, 323.07921869, 413.42158466, 332.00314781,\n",
       "       330.48448001, 451.62249246, 446.70810989, 353.66658897,\n",
       "       306.19235911, 394.82504876, 322.47396297, 499.602843  ,\n",
       "       433.96728239, 457.98013521, 360.3162986 , 181.2039597 ,\n",
       "       439.39288046, 314.88152994, 260.14261771, 447.59492746])"
      ]
     },
     "execution_count": 9,
     "metadata": {},
     "output_type": "execute_result"
    }
   ],
   "source": [
    "kwt_array"
   ]
  },
  {
   "cell_type": "code",
   "execution_count": 10,
   "id": "a73b0f51",
   "metadata": {},
   "outputs": [
    {
     "data": {
      "text/plain": [
       "(120,)"
      ]
     },
     "execution_count": 10,
     "metadata": {},
     "output_type": "execute_result"
    }
   ],
   "source": [
    "kwt_array.shape"
   ]
  },
  {
   "cell_type": "markdown",
   "id": "c9e9c605",
   "metadata": {},
   "source": [
    "3.\tСоздайте многомерный массив показаний счетчика где оси куба\n",
    "a.\tаxis=0 – номер дома\n",
    "b.\tаxis=1 – номер подъезда\n",
    "c.\tаxis=2 – номер этажа\n",
    "d.\tаxis=3 – номер квартиры"
   ]
  },
  {
   "cell_type": "code",
   "execution_count": 11,
   "id": "c77b7644",
   "metadata": {},
   "outputs": [
    {
     "data": {
      "text/plain": [
       "0    60\n",
       "1    60\n",
       "Name: building, dtype: int64"
      ]
     },
     "execution_count": 11,
     "metadata": {},
     "output_type": "execute_result"
    }
   ],
   "source": [
    "df.building.value_counts()\n",
    "#у нас есть 2 строения - 1 и 2"
   ]
  },
  {
   "cell_type": "code",
   "execution_count": 12,
   "id": "ae494c46",
   "metadata": {},
   "outputs": [
    {
     "data": {
      "text/plain": [
       "0    40\n",
       "1    40\n",
       "2    40\n",
       "Name: porch, dtype: int64"
      ]
     },
     "execution_count": 12,
     "metadata": {},
     "output_type": "execute_result"
    }
   ],
   "source": [
    "df.porch.value_counts()\n",
    "#3 подъезда"
   ]
  },
  {
   "cell_type": "code",
   "execution_count": 13,
   "id": "2765b53a",
   "metadata": {},
   "outputs": [
    {
     "data": {
      "text/plain": [
       "0    30\n",
       "1    30\n",
       "2    30\n",
       "3    30\n",
       "Name: floor, dtype: int64"
      ]
     },
     "execution_count": 13,
     "metadata": {},
     "output_type": "execute_result"
    }
   ],
   "source": [
    "df.floor.value_counts()\n",
    "#4 этажа"
   ]
  },
  {
   "cell_type": "code",
   "execution_count": 14,
   "id": "90efb5a6",
   "metadata": {},
   "outputs": [
    {
     "data": {
      "text/plain": [
       "0    24\n",
       "1    24\n",
       "2    24\n",
       "3    24\n",
       "4    24\n",
       "Name: apartment, dtype: int64"
      ]
     },
     "execution_count": 14,
     "metadata": {},
     "output_type": "execute_result"
    }
   ],
   "source": [
    "df.apartment.value_counts()\n",
    "#5 квартир"
   ]
  },
  {
   "cell_type": "code",
   "execution_count": 15,
   "id": "907d5c8e",
   "metadata": {},
   "outputs": [],
   "source": [
    "array_4d=kwt_array.reshape((2,3,4,5))\n",
    "#четырехмерный массив, в котором будет 2 дома, в каждом доме по 3 подъезда, по 4 этажа и 5 квартир"
   ]
  },
  {
   "cell_type": "code",
   "execution_count": 16,
   "id": "e0b0c45c",
   "metadata": {},
   "outputs": [
    {
     "data": {
      "text/plain": [
       "array([[[[393.14522563, 531.03844742, 559.23580759, 453.15497731,\n",
       "          324.07479453],\n",
       "         [373.66248979, 346.59126264, 479.88573109, 558.31613705,\n",
       "          262.07444862],\n",
       "         [411.14114479, 520.02339012, 509.17405566, 272.47566539,\n",
       "          404.19534578],\n",
       "         [447.86712869, 428.59679011, 334.75986465, 174.93893332,\n",
       "          564.4892545 ]],\n",
       "\n",
       "        [[538.65992236, 506.74801857, 398.10121113, 349.33298001,\n",
       "          491.38181406],\n",
       "         [486.48523252, 375.87933695, 566.33709458, 380.74186418,\n",
       "          387.16077567],\n",
       "         [416.8442116 , 598.03328433, 474.02501576, 362.48034871,\n",
       "          416.92979189],\n",
       "         [454.39464334, 497.41753364, 509.82674139, 272.20471493,\n",
       "          306.76627039]],\n",
       "\n",
       "        [[303.29565313, 314.69132267, 374.88454329, 473.63796487,\n",
       "          411.96952507],\n",
       "         [324.56709249, 296.69430248, 455.14188565, 264.27191911,\n",
       "          559.88513624],\n",
       "         [646.08101884, 292.13262366, 548.27996241, 173.47384689,\n",
       "          618.76486794],\n",
       "         [498.93328765, 386.12147617, 417.18395389, 247.63763986,\n",
       "          430.29081794]]],\n",
       "\n",
       "\n",
       "       [[[428.84079815, 381.84230344, 333.48545198, 502.92561723,\n",
       "          436.40718161],\n",
       "         [587.14862006, 496.11799706, 468.87431223, 397.59985028,\n",
       "          303.05424693],\n",
       "         [452.52891666, 398.80791437, 157.39572235, 263.35086838,\n",
       "          271.45019672],\n",
       "         [395.13503908, 538.03093525, 333.12458293, 487.17682654,\n",
       "          410.71099911]],\n",
       "\n",
       "        [[622.59454348, 564.17544003, 271.06684119, 344.47439748,\n",
       "          405.18753755],\n",
       "         [358.09581854, 443.91446342, 220.71911502, 508.27348657,\n",
       "          352.98170899],\n",
       "         [273.5128585 , 464.78505164, 476.55907031, 406.85668499,\n",
       "          368.34421754],\n",
       "         [467.68193023, 384.68910308, 284.96410461, 358.39311951,\n",
       "          298.84344634]],\n",
       "\n",
       "        [[506.66201086, 323.07921869, 413.42158466, 332.00314781,\n",
       "          330.48448001],\n",
       "         [451.62249246, 446.70810989, 353.66658897, 306.19235911,\n",
       "          394.82504876],\n",
       "         [322.47396297, 499.602843  , 433.96728239, 457.98013521,\n",
       "          360.3162986 ],\n",
       "         [181.2039597 , 439.39288046, 314.88152994, 260.14261771,\n",
       "          447.59492746]]]])"
      ]
     },
     "execution_count": 16,
     "metadata": {},
     "output_type": "execute_result"
    }
   ],
   "source": [
    "array_4d"
   ]
  },
  {
   "cell_type": "markdown",
   "id": "d601e574",
   "metadata": {},
   "source": [
    "4. Выведите размер и форму куба"
   ]
  },
  {
   "cell_type": "code",
   "execution_count": 17,
   "id": "77ab6aa6",
   "metadata": {},
   "outputs": [
    {
     "data": {
      "text/plain": [
       "120"
      ]
     },
     "execution_count": 17,
     "metadata": {},
     "output_type": "execute_result"
    }
   ],
   "source": [
    "array_4d.size"
   ]
  },
  {
   "cell_type": "code",
   "execution_count": 18,
   "id": "fe0d4d7f",
   "metadata": {},
   "outputs": [
    {
     "data": {
      "text/plain": [
       "(2, 3, 4, 5)"
      ]
     },
     "execution_count": 18,
     "metadata": {},
     "output_type": "execute_result"
    }
   ],
   "source": [
    "array_4d.shape"
   ]
  },
  {
   "cell_type": "markdown",
   "id": "958bf6ec",
   "metadata": {},
   "source": [
    "5.\tПосчитайте по всему дому:\n",
    "a.\tВсе потребление\n",
    "b.\tМин и макс\n",
    "c.\tСреднее и дисперсию"
   ]
  },
  {
   "cell_type": "code",
   "execution_count": 19,
   "id": "0585e532",
   "metadata": {},
   "outputs": [
    {
     "data": {
      "text/plain": [
       "(48672.87333901429, 157.3957223504202, 646.0810188388743)"
      ]
     },
     "execution_count": 19,
     "metadata": {},
     "output_type": "execute_result"
    }
   ],
   "source": [
    "array_4d.sum(), array_4d.min(), array_4d.max()\n",
    "#сумма, минимальное, максимальное по всему дому"
   ]
  },
  {
   "cell_type": "code",
   "execution_count": 20,
   "id": "5448fd92",
   "metadata": {},
   "outputs": [
    {
     "data": {
      "text/plain": [
       "(405.60727782511907, 10563.118286115458, 102.77703189971706)"
      ]
     },
     "execution_count": 20,
     "metadata": {},
     "output_type": "execute_result"
    }
   ],
   "source": [
    "array_4d.mean(), array_4d.var(), array_4d.std()\n",
    "#среднее, дисперсия, стандартное отклонение по всему массиву"
   ]
  },
  {
   "cell_type": "markdown",
   "id": "0623b883",
   "metadata": {},
   "source": [
    "6.\tПосчитайте описательную статистику сгруппировав по\n",
    "a.\tДомам\n",
    "b.\tПодъездам\n",
    "c.\tЭтажам \n",
    "d.\tКвартирам"
   ]
  },
  {
   "cell_type": "code",
   "execution_count": 28,
   "id": "80d851f0",
   "metadata": {},
   "outputs": [
    {
     "data": {
      "text/plain": [
       "array([419.60884235, 391.6057133 ])"
      ]
     },
     "execution_count": 28,
     "metadata": {},
     "output_type": "execute_result"
    }
   ],
   "source": [
    "array_buildings_mean=((array_4d.mean(axis=3)).mean(axis=2)).mean(axis=1) #\n",
    "array_buildings_mean"
   ]
  },
  {
   "cell_type": "code",
   "execution_count": 207,
   "id": "35639d12",
   "metadata": {},
   "outputs": [
    {
     "data": {
      "text/plain": [
       "array([25176.53054095, 23496.34279806])"
      ]
     },
     "execution_count": 207,
     "metadata": {},
     "output_type": "execute_result"
    }
   ],
   "source": [
    "array_buildings=((array_4d.sum(axis=3)).sum(axis=2)).sum(axis=1) #по домам\n",
    "array_buildings"
   ]
  },
  {
   "cell_type": "code",
   "execution_count": 213,
   "id": "76be0183",
   "metadata": {},
   "outputs": [
    {
     "data": {
      "text/plain": [
       "DescribeResult(nobs=2, minmax=(23496.342798063055, 25176.530540951244), mean=24336.43666950715, variance=1411515.4256758536, skewness=-6.5344646247592555e-15, kurtosis=-2.0)"
      ]
     },
     "execution_count": 213,
     "metadata": {},
     "output_type": "execute_result"
    }
   ],
   "source": [
    "from scipy import stats\n",
    "stats.describe(array_buildings)"
   ]
  },
  {
   "cell_type": "code",
   "execution_count": 32,
   "id": "881204e2",
   "metadata": {},
   "outputs": [
    {
     "data": {
      "text/plain": [
       "array([16392.84927507, 16665.86374504, 15614.16031891])"
      ]
     },
     "execution_count": 32,
     "metadata": {},
     "output_type": "execute_result"
    }
   ],
   "source": [
    "array_porches=((array_4d.sum(axis=3)).sum(axis=2)).sum(axis=0) #сумма по подъездам\n",
    "array_porches"
   ]
  },
  {
   "cell_type": "code",
   "execution_count": 33,
   "id": "4d796a43",
   "metadata": {},
   "outputs": [
    {
     "data": {
      "text/plain": [
       "array([409.82123188, 416.64659363, 390.35400797])"
      ]
     },
     "execution_count": 33,
     "metadata": {},
     "output_type": "execute_result"
    }
   ],
   "source": [
    "((array_4d.mean(axis=3)).mean(axis=2)).mean(axis=0) #среднее по подъездам"
   ]
  },
  {
   "cell_type": "code",
   "execution_count": 35,
   "id": "f0bbff73",
   "metadata": {},
   "outputs": [
    {
     "data": {
      "text/plain": [
       "array([ 0.92519776,  7.62528965, 14.91847307])"
      ]
     },
     "execution_count": 35,
     "metadata": {},
     "output_type": "execute_result"
    }
   ],
   "source": [
    "((array_4d.std(axis=3)).std(axis=2)).std(axis=0) #среднее отклонение по подъездам"
   ]
  },
  {
   "cell_type": "code",
   "execution_count": 36,
   "id": "6e57fb17",
   "metadata": {},
   "outputs": [
    {
     "data": {
      "text/plain": [
       "array([157.39572235, 220.71911502, 173.47384689])"
      ]
     },
     "execution_count": 36,
     "metadata": {},
     "output_type": "execute_result"
    }
   ],
   "source": [
    "((array_4d.min(axis=3)).min(axis=2)).min(axis=0) #минимальное по подъездам"
   ]
  },
  {
   "cell_type": "code",
   "execution_count": 37,
   "id": "36c33bbf",
   "metadata": {},
   "outputs": [
    {
     "data": {
      "text/plain": [
       "array([587.14862006, 622.59454348, 646.08101884])"
      ]
     },
     "execution_count": 37,
     "metadata": {},
     "output_type": "execute_result"
    }
   ],
   "source": [
    "((array_4d.max(axis=3)).max(axis=2)).max(axis=0) #максимальное по подъездам"
   ]
  },
  {
   "cell_type": "code",
   "execution_count": 219,
   "id": "8d10a9f2",
   "metadata": {},
   "outputs": [
    {
     "data": {
      "text/plain": [
       "DescribeResult(nobs=3, minmax=(15614.160318909731, 16665.863745036288), mean=16224.291113004765, variance=297828.9146302561, skewness=-0.513288437281026, kurtosis=-1.5000000000000024)"
      ]
     },
     "execution_count": 219,
     "metadata": {},
     "output_type": "execute_result"
    }
   ],
   "source": [
    "stats.describe(array_porches)"
   ]
  },
  {
   "cell_type": "code",
   "execution_count": 221,
   "id": "61a5caac",
   "metadata": {},
   "outputs": [
    {
     "data": {
      "text/plain": [
       "array([12620.0027618 , 12207.48892738, 12271.98659741, 11573.39505241])"
      ]
     },
     "execution_count": 221,
     "metadata": {},
     "output_type": "execute_result"
    }
   ],
   "source": [
    "array_floors=((array_4d.sum(axis=3)).sum(axis=1)).sum(axis=0) #по этажам\n",
    "array_floors"
   ]
  },
  {
   "cell_type": "code",
   "execution_count": 39,
   "id": "208b616f",
   "metadata": {},
   "outputs": [
    {
     "data": {
      "text/plain": [
       "array([420.66675873, 406.91629758, 409.06621991, 385.77983508])"
      ]
     },
     "execution_count": 39,
     "metadata": {},
     "output_type": "execute_result"
    }
   ],
   "source": [
    "((array_4d.mean(axis=3)).mean(axis=1)).mean(axis=0) #среднее по этажам"
   ]
  },
  {
   "cell_type": "code",
   "execution_count": 222,
   "id": "95fb2828",
   "metadata": {},
   "outputs": [
    {
     "data": {
      "text/plain": [
       "DescribeResult(nobs=4, minmax=(11573.395052413767, 12620.00276180416), mean=12168.218334753574, variance=190077.97917324022, skewness=-0.5437272442311318, kurtosis=-0.9461153485723046)"
      ]
     },
     "execution_count": 222,
     "metadata": {},
     "output_type": "execute_result"
    }
   ],
   "source": [
    "stats.describe(array_floors)"
   ]
  },
  {
   "cell_type": "code",
   "execution_count": 210,
   "id": "8f36bbf6",
   "metadata": {},
   "outputs": [
    {
     "data": {
      "text/plain": [
       "array([10342.57800152, 10475.11404909,  9688.96205365,  8608.03610246,\n",
       "        9558.18313228])"
      ]
     },
     "execution_count": 210,
     "metadata": {},
     "output_type": "execute_result"
    }
   ],
   "source": [
    "array_apartments=((array_4d.sum(axis=2)).sum(axis=1)).sum(axis=0) #по квартирам\n",
    "array_apartments\n",
    "#"
   ]
  },
  {
   "cell_type": "code",
   "execution_count": 57,
   "id": "25960ece",
   "metadata": {},
   "outputs": [
    {
     "data": {
      "text/plain": [
       "array([10342.57800152, 10475.11404909,  9688.96205365,  8608.03610246,\n",
       "        9558.18313228])"
      ]
     },
     "execution_count": 57,
     "metadata": {},
     "output_type": "execute_result"
    }
   ],
   "source": [
    "array_4d.sum(axis=(0,1,2)) #второй способ"
   ]
  },
  {
   "cell_type": "code",
   "execution_count": 223,
   "id": "f061cb41",
   "metadata": {},
   "outputs": [
    {
     "data": {
      "text/plain": [
       "DescribeResult(nobs=5, minmax=(8608.036102463215, 10475.11404909407), mean=9734.574667802859, variance=555087.5631570859, skewness=-0.5436506225354885, kurtosis=-0.9219333473582538)"
      ]
     },
     "execution_count": 223,
     "metadata": {},
     "output_type": "execute_result"
    }
   ],
   "source": [
    "stats.describe(array_apartments)"
   ]
  },
  {
   "cell_type": "markdown",
   "id": "abdddae4",
   "metadata": {},
   "source": [
    "7.\tПосчитайте суммарное потребление по этажам каждого здания отдельно"
   ]
  },
  {
   "cell_type": "code",
   "execution_count": 218,
   "id": "97df93a0",
   "metadata": {},
   "outputs": [
    {
     "data": {
      "text/plain": [
       "array([[6423.35220763, 6117.69470907, 6664.05457378, 5971.42905047],\n",
       "       [6196.65055417, 6089.79421831, 5607.93202364, 5601.96600194]])"
      ]
     },
     "execution_count": 218,
     "metadata": {},
     "output_type": "execute_result"
    }
   ],
   "source": [
    "array_floors_buildings=(array_4d.sum(axis=3)).sum(axis=1)\n",
    "array_floors_buildings"
   ]
  },
  {
   "cell_type": "markdown",
   "id": "17bcb8ae",
   "metadata": {},
   "source": [
    "\n",
    "\n",
    "8.\tB суммарное потребление по каждому зданию\n",
    "•\taxis : None or int or tuple of ints, optional link"
   ]
  },
  {
   "cell_type": "code",
   "execution_count": 31,
   "id": "19c3e13c",
   "metadata": {},
   "outputs": [
    {
     "data": {
      "text/plain": [
       "array([25176.53054095, 23496.34279806])"
      ]
     },
     "execution_count": 31,
     "metadata": {},
     "output_type": "execute_result"
    }
   ],
   "source": [
    "array_buildings=((array_4d.sum(axis=3)).sum(axis=2)).sum(axis=1) #по домам\n",
    "array_buildings"
   ]
  },
  {
   "cell_type": "code",
   "execution_count": null,
   "id": "22e6c3e1",
   "metadata": {},
   "outputs": [],
   "source": []
  }
 ],
 "metadata": {
  "kernelspec": {
   "display_name": "Python 3 (ipykernel)",
   "language": "python",
   "name": "python3"
  },
  "language_info": {
   "codemirror_mode": {
    "name": "ipython",
    "version": 3
   },
   "file_extension": ".py",
   "mimetype": "text/x-python",
   "name": "python",
   "nbconvert_exporter": "python",
   "pygments_lexer": "ipython3",
   "version": "3.9.12"
  }
 },
 "nbformat": 4,
 "nbformat_minor": 5
}
